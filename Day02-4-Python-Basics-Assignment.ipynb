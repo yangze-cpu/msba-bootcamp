{
  "cells": [
    {
      "cell_type": "markdown",
      "metadata": {
        "id": "ZyvLGfilJkaE"
      },
      "source": [
        "# Day 2: Python Basics, Data Structures, and Control Flow\n",
        "## Instructions & Exercises\n",
        "\n",
        "Welcome to Day 2! Today you will practice Python fundamentals. You'll work with variables and basic data types, core collection types, and decision-making with conditionals.\n",
        "\n",
        "---\n"
      ]
    },
    {
      "cell_type": "markdown",
      "metadata": {
        "id": "Hn9ZWOt1JkaF"
      },
      "source": [
        "## 🎯 Learning Objectives\n",
        "\n",
        "By the end of this lesson, you will be able to:\n",
        "1. Create and use variables of different basic types (numbers, strings, booleans)\n",
        "2. Work with core data structures: lists, tuples, dictionaries, and sets\n",
        "3. Apply conditional logic using `if`/`elif`/`else` for business rules\n",
        "\n",
        "---\n"
      ]
    },
    {
      "cell_type": "markdown",
      "metadata": {
        "id": "7DswrFCSJkaG"
      },
      "source": [
        "## 🧱 Section 1: Variables, Expressions, and Basic Data Types\n",
        "\n",
        "Python supports several basic data types:\n",
        "- Numbers: `int` (integers), `float` (decimals)\n",
        "- Strings: sequences of characters, e.g., \"Hello\"\n",
        "- Booleans: `True` or `False`\n",
        "\n",
        "### Exercise 1.1: Variables & Types\n",
        "Create variables for:\n",
        "- A product name (string)\n",
        "- A unit price (float)\n",
        "- A quantity in stock (integer)\n",
        "- A flag `is_active` (boolean)\n",
        "\n",
        "Then:\n",
        "1. Print their values and types using `type()`\n",
        "2. Compute `inventory_value = unit_price * quantity`\n",
        "3. Print a formatted message summarizing the product with its inventory value\n",
        "\n"
      ]
    },
    {
      "cell_type": "code",
      "execution_count": null,
      "metadata": {
        "id": "pfuQ0E7uJkaG"
      },
      "outputs": [],
      "source": [
        "# Exercise 1.1: Your code here\n",
        "\n",
        "\n",
        "# 1) Define variables: product_name (str), unit_price (float), quantity (int), is_active (bool)\n",
        "# 2) Print values and types\n",
        "# 3) Compute inventory_value and print a summary message\n",
        "\n"
      ]
    },
    {
      "cell_type": "markdown",
      "metadata": {
        "id": "tVQimcfDJkaG"
      },
      "source": [
        "### Exercise 1.2: String Operations\n",
        "Given a variable `full_name`, do the following:\n",
        "1. Clean whitespace from both ends\n",
        "2. Convert to title case\n",
        "3. Extract initials (first letter of first and last names)\n",
        "4. Create a username by combining lowercase last name and the last 2 digits of a `student_id` number\n",
        "\n"
      ]
    },
    {
      "cell_type": "code",
      "execution_count": 3,
      "metadata": {
        "id": "0zceLnvcJkaH"
      },
      "outputs": [],
      "source": [
        "# Exercise 1.2: Your code here\n",
        "\n",
        "# full_name = \"  your name here  \"\n",
        "# student_id = 123456\n",
        "# Steps: strip -> title -> initials -> username\n",
        "\n"
      ]
    },
    {
      "cell_type": "markdown",
      "metadata": {
        "id": "k67b_MKwJkaH"
      },
      "source": [
        "### Exercise 1.3: Numeric Expressions\n",
        "You are given `price = 19.99`, `tax_rate = 0.0625`, and `discount = 0.10`.\n",
        "1. Compute `subtotal` for a quantity of 3\n",
        "2. Compute `tax` on the discounted subtotal\n",
        "3. Compute `total` = discounted subtotal + tax\n",
        "4. Round `total` to 2 decimal places\n",
        "\n"
      ]
    },
    {
      "cell_type": "code",
      "execution_count": 2,
      "metadata": {
        "colab": {
          "base_uri": "https://localhost:8080/"
        },
        "id": "GmAGPx6KJkaH",
        "outputId": "6e1bbce3-7489-402c-fb15-e9c234b19a60"
      },
      "outputs": [
        {
          "output_type": "stream",
          "name": "stdout",
          "text": [
            "subtotal: 53.97\n",
            "tax: 3.37\n",
            "total: 57.35\n"
          ]
        }
      ],
      "source": [
        "# Exercise 1.3: Your code here\n",
        "\n",
        "price = 19.99\n",
        "tax_rate = 0.0625\n",
        "discount = 0.10\n",
        "quantity = 3\n",
        "\n",
        "subtotal = price * quantity\n",
        "\n",
        "discounted_subtotal = subtotal * (1 - discount)\n",
        "tax = discounted_subtotal * tax_rate\n",
        "total = discounted_subtotal + tax\n",
        "total_rounded = round(total, 2)\n",
        "\n",
        "print(\"subtotal:\", round(discounted_subtotal, 2))\n",
        "print(\"tax:\", round(tax, 2))\n",
        "print(\"total:\", total_rounded)"
      ]
    },
    {
      "cell_type": "markdown",
      "metadata": {
        "id": "l0VpxOFrJkaH"
      },
      "source": [
        "---\n",
        "\n",
        "## 📦 Section 2: Core Data Structures\n",
        "\n",
        "You'll work with lists, tuples, dictionaries, and sets.\n",
        "\n",
        "### Exercise 2.1: Lists\n",
        "Create a list `sales` with daily sales: `[120, 98, 145, 130, 160]`.\n",
        "1. Append a new day's sales `150`\n",
        "2. Compute min, max, and average\n",
        "3. Replace the third value with `155`\n",
        "4. Slice the last three days\n",
        "\n"
      ]
    },
    {
      "cell_type": "code",
      "execution_count": 4,
      "metadata": {
        "id": "6v8p6d6oJkaH"
      },
      "outputs": [],
      "source": [
        "# Exercise 2.1: Your code here\n",
        "\n",
        "sales = [120, 98, 145, 130, 160]\n",
        "\n",
        "sales.append(150)\n",
        "print(\"after append:\", sales)\n",
        "\n",
        "min_sale ="
      ]
    },
    {
      "cell_type": "markdown",
      "metadata": {
        "id": "k64Mt4n5JkaH"
      },
      "source": [
        "### Exercise 2.2: Tuples\n",
        "Given a tuple `product = (\"SKU123\", \"Sneakers\", 89.99)` representing `(sku, name, price)`, do the following:\n",
        "1. Unpack the tuple into variables\n",
        "2. Try to change the price; what happens?\n",
        "3. Create a new tuple with the updated price `79.99`\n",
        "\n"
      ]
    },
    {
      "cell_type": "code",
      "execution_count": null,
      "metadata": {
        "id": "qDaYbuJwJkaH"
      },
      "outputs": [],
      "source": [
        "# Exercise 2.2: Your code here\n",
        "\n",
        "# product = (\"SKU123\", \"Sneakers\", 89.99)\n",
        "\n"
      ]
    },
    {
      "cell_type": "markdown",
      "metadata": {
        "id": "R5HOGYrzJkaH"
      },
      "source": [
        "### Exercise 2.3: Dictionaries\n",
        "Create a dictionary `customer` with keys: `id`, `name`, `tier` (e.g., Bronze/Silver/Gold), and `points`.\n",
        "1. Access and print the customer's tier\n",
        "2. Add a new key `email`\n",
        "3. Increase `points` by 250\n",
        "4. Get a default value for a missing key `phone` using `get`\n",
        "\n"
      ]
    },
    {
      "cell_type": "code",
      "execution_count": null,
      "metadata": {
        "id": "3K5qAgSNJkaH"
      },
      "outputs": [],
      "source": [
        "# Exercise 2.3: Your code here\n",
        "\n",
        "# customer = {\"id\": 1001, \"name\": \"Alex Kim\", \"tier\": \"Silver\", \"points\": 1200}\n",
        "\n"
      ]
    },
    {
      "cell_type": "markdown",
      "metadata": {
        "id": "ZXmVuZBqJkaH"
      },
      "source": [
        "### Exercise 2.4: Sets\n",
        "Given `purchased_items = [\"apple\", \"banana\", \"apple\", \"orange\", \"banana\", \"grape\"]`:\n",
        "1. Use a set to find unique items\n",
        "2. Add a new item `\"strawberry\"`\n",
        "3. Check if `\"banana\"` is in the set\n",
        "4. Compute the intersection with `promo_items = {\"banana\", \"kiwi\", \"grape\"}`\n",
        "\n"
      ]
    },
    {
      "cell_type": "code",
      "execution_count": null,
      "metadata": {
        "id": "npNJZG2wJkaH"
      },
      "outputs": [],
      "source": [
        "# Exercise 2.4: Your code here\n",
        "\n",
        "# purchased_items = [\"apple\", \"banana\", \"apple\", \"orange\", \"banana\", \"grape\"]\n",
        "# promo_items = {\"banana\", \"kiwi\", \"grape\"}\n",
        "\n"
      ]
    },
    {
      "cell_type": "markdown",
      "metadata": {
        "id": "NGmO9d03JkaH"
      },
      "source": [
        "---\n",
        "\n",
        "## 🔀 Section 3: Control Flow with Conditionals\n",
        "\n",
        "Use `if`, `elif`, and `else` to implement business logic.\n",
        "\n",
        "### Exercise 3.1: Shipping Cost Rules\n",
        "You work for an e-commerce store.\n",
        "- Orders below $50: $7.99 shipping\n",
        "- Orders $50 to $99.99: $4.99 shipping\n",
        "- Orders $100 and above: free shipping\n",
        "\n",
        "Given an `order_total`, compute `shipping_cost` and `grand_total`.\n",
        "\n"
      ]
    },
    {
      "cell_type": "code",
      "execution_count": null,
      "metadata": {
        "id": "n1ON5CsPJkaI"
      },
      "outputs": [],
      "source": [
        "# Exercise 3.1: Your code here\n",
        "\n",
        "# order_total = 86.50\n",
        "\n"
      ]
    },
    {
      "cell_type": "markdown",
      "metadata": {
        "id": "U3npX99KJkaI"
      },
      "source": [
        "### Exercise 3.2: Loyalty Discount\n",
        "Given a customer's `tier` (Bronze/Silver/Gold) and `order_total`:\n",
        "- Bronze: 0% discount\n",
        "- Silver: 5% discount\n",
        "- Gold: 10% discount\n",
        "\n",
        "Compute the `discount_amount` and `final_total`. Use conditionals; do not use dictionaries for this one.\n",
        "\n"
      ]
    },
    {
      "cell_type": "code",
      "execution_count": null,
      "metadata": {
        "id": "aSBbRuL0JkaI"
      },
      "outputs": [],
      "source": [
        "# Exercise 3.2: Your code here\n",
        "\n",
        "# tier = \"Silver\"\n",
        "# order_total = 200.00\n",
        "\n"
      ]
    },
    {
      "cell_type": "markdown",
      "metadata": {
        "id": "Mb1AI1dNJkaI"
      },
      "source": [
        "### Exercise 3.3: Fraud Check\n",
        "Write logic that flags an order as potentially fraudulent if any of the following are true:\n",
        "- Order total > $1,000 and shipping country is not \"US\"\n",
        "- Billing and shipping addresses are different AND order total > $500\n",
        "- Customer is not active (`is_active == False`) but placed an order\n",
        "\n",
        "Set a boolean `is_fraud` accordingly and print a message.\n",
        "\n"
      ]
    },
    {
      "cell_type": "code",
      "execution_count": null,
      "metadata": {
        "id": "V4MkCdMOJkaI"
      },
      "outputs": [],
      "source": [
        "# Exercise 3.3: Your code here\n",
        "\n",
        "# order_total = 1200.00\n",
        "# shipping_country = \"CA\"\n",
        "# billing_address = \"123 A St\"\n",
        "# shipping_address = \"789 B Ave\"\n",
        "# is_active = True\n",
        "\n"
      ]
    },
    {
      "cell_type": "markdown",
      "metadata": {
        "id": "KCc0b7dmJkaI"
      },
      "source": [
        "---\n",
        "\n",
        "## 🚀 Challenge Problems\n",
        "\n",
        "### Challenge 1: Basket Summary\n",
        "Given a list of `(item_name, price)` tuples representing a shopping basket, compute:\n",
        "- Total before tax\n",
        "- Unique item count\n",
        "- Most expensive item\n",
        "- A comma-separated summary string of item names in alphabetical order\n",
        "\n"
      ]
    },
    {
      "cell_type": "code",
      "execution_count": null,
      "metadata": {
        "id": "tltkaIDYJkaI"
      },
      "outputs": [],
      "source": [
        "# Challenge 1: Your code here\n",
        "\n",
        "# basket = [(\"apple\", 1.50), (\"banana\", 0.99), (\"steak\", 12.99), (\"banana\", 0.99)]\n",
        "\n"
      ]
    },
    {
      "cell_type": "markdown",
      "metadata": {
        "id": "RK8HEH4EJkaI"
      },
      "source": [
        "### Challenge 2: Promo Eligibility\n",
        "Given `customer = {\"tier\": \"Gold\", \"points\": 3200}` and a set `eligible_tiers = {\"Silver\", \"Gold\"}`:\n",
        "- If the tier is eligible and points >= 3000, print \"Eligible for Promo\"\n",
        "- Otherwise, print the reason why not"
      ]
    },
    {
      "cell_type": "code",
      "execution_count": null,
      "metadata": {
        "id": "ufTrTjDwJkaI"
      },
      "outputs": [],
      "source": [
        "# Challenge 2: Your code here\n",
        "\n",
        "# customer = {\"tier\": \"Gold\", \"points\": 3200}\n",
        "# eligible_tiers = {\"Silver\", \"Gold\"}\n",
        "\n"
      ]
    },
    {
      "cell_type": "markdown",
      "metadata": {
        "id": "E0FICNNDJkaI"
      },
      "source": [
        "---\n",
        "\n",
        "## 🤔 Reflection Questions\n",
        "\n",
        "After completing the exercises, reflect on these questions:\n",
        "\n",
        "1. How do Python's core data structures (list, tuple, dict, set) differ in mutability and typical use-cases?\n",
        "2. What new string or numeric operations did you find most useful today?\n",
        "3. In what business scenarios would conditional logic be essential?\n",
        "4. What was tricky, and how did you resolve it?\n",
        "\n"
      ]
    },
    {
      "cell_type": "markdown",
      "metadata": {
        "id": "dspxsOr4JkaI"
      },
      "source": [
        "---\n",
        "\n",
        "## 📚 Additional Resources\n",
        "\n",
        "- Official Python Tutorial: `https://docs.python.org/3/tutorial/`\n",
        "- Built-in Types (numbers, strings, sequences, sets, mappings): `https://docs.python.org/3/library/stdtypes.html`\n",
        "- String Methods: `https://docs.python.org/3/library/stdtypes.html#string-methods`\n",
        "- If/Else statements: `https://docs.python.org/3/tutorial/controlflow.html#if-statements`\n",
        "\n",
        "---\n",
        "\n",
        "Great work on Day 2! 🎉\n"
      ]
    }
  ],
  "metadata": {
    "kernelspec": {
      "display_name": "py_latest",
      "language": "python",
      "name": "python3"
    },
    "language_info": {
      "codemirror_mode": {
        "name": "ipython",
        "version": 3
      },
      "file_extension": ".py",
      "mimetype": "text/x-python",
      "name": "python",
      "nbconvert_exporter": "python",
      "pygments_lexer": "ipython3",
      "version": "3.13.2"
    },
    "colab": {
      "provenance": []
    }
  },
  "nbformat": 4,
  "nbformat_minor": 0
}